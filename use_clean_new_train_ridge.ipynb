{
 "cells": [
  {
   "cell_type": "markdown",
   "metadata": {},
   "source": [
    "* 导入库"
   ]
  },
  {
   "cell_type": "code",
   "execution_count": 1,
   "metadata": {},
   "outputs": [],
   "source": [
    "import time\n",
    "import numpy as np\n",
    "import pandas as pd\n",
    "\n",
    "from sklearn.feature_extraction.text import CountVectorizer, TfidfVectorizer\n",
    "\n",
    "from sklearn.preprocessing import LabelBinarizer\n",
    "\n",
    "import lightgbm as lgb\n",
    "from scipy.sparse import csr_matrix, hstack\n",
    "from sklearn.metrics import mean_squared_log_error"
   ]
  },
  {
   "cell_type": "code",
   "execution_count": 2,
   "metadata": {},
   "outputs": [],
   "source": [
    "train_data = pd.read_csv('train_clean_new.csv', sep=\"\\t\")\n",
    "\n",
    "# test_data = pd.read_csv('test.csv',sep='\\t')"
   ]
  },
  {
   "cell_type": "code",
   "execution_count": 6,
   "metadata": {},
   "outputs": [
    {
     "name": "stdout",
     "output_type": "stream",
     "text": [
      "<class 'pandas.core.frame.DataFrame'>\n",
      "RangeIndex: 474710 entries, 0 to 474709\n",
      "Data columns (total 8 columns):\n",
      "train_id             474710 non-null int64\n",
      "name                 474708 non-null object\n",
      "item_condition_id    474710 non-null int64\n",
      "category_name        472655 non-null object\n",
      "brand_name           272297 non-null object\n",
      "price                474710 non-null float64\n",
      "shipping             474710 non-null int64\n",
      "item_description     474586 non-null object\n",
      "dtypes: float64(1), int64(3), object(4)\n",
      "memory usage: 29.0+ MB\n"
     ]
    }
   ],
   "source": [
    "train_data.info()"
   ]
  },
  {
   "cell_type": "code",
   "execution_count": 7,
   "metadata": {},
   "outputs": [
    {
     "data": {
      "text/plain": [
       "(        train_id                                      name  item_condition_id  \\\n",
       " 392032    392032                   Jumbo Charizard Ex Card                  3   \n",
       " 188311    188311          Ulta Rose Gold Eyeshadow Palette                  1   \n",
       " 350588    350588   Roku Premiere 4K Streaming Media Player                  1   \n",
       " 426575    426575   VS PINK SEAFOAM LS CAMPUS TEE SHIRT NEW                  1   \n",
       " 321073    321073                     NWT Black Levis Jeans                  1   \n",
       " 276865    276865                       New blue Lego clock                  1   \n",
       " 213195    213195      Disney Tsum Tsum Marvel Series 2 Lot                  1   \n",
       " 47744      47744                   Purple plaid wool skirt                  2   \n",
       " 202434    202434        Sexy Lace Feather Panties Lingerie                  2   \n",
       " 154165    154165               Hollister Long Sleeve Shirt                  3   \n",
       " 145807    145807            Womens Loft Sweater Size Small                  3   \n",
       " 57109      57109                      Tory Burch Logo Belt                  2   \n",
       " 422257    422257     Funko POP Animation One Punch Man Set                  1   \n",
       " 454156    454156                     Cato Dress With Scarf                  2   \n",
       " 201887    201887                                   Latisse                  2   \n",
       " 33436      33436              Nike youth hoodie large 1214                  2   \n",
       " 46126      46126                         Bray Wyatt Bundle                  3   \n",
       " 458659    458659  Set of 2 Wilton Snowman/Mitten cake pans                  2   \n",
       " 415645    415645                              Fluffy slime                  1   \n",
       " 277395    277395                      Carters baby clothes                  1   \n",
       " 289024    289024            3 Yds VS Love Pink FOE Elastic                  2   \n",
       " 54035      54035             Light Wash Hollister Jeggings                  2   \n",
       " 282416    282416           Victorias Secret Swimsuit Small                  2   \n",
       " 240967    240967         9pc kawaii plush keychain lot Ted                  3   \n",
       " 21859      21859                       FS lip smacker luxe                  1   \n",
       " 370300    370300                Victoria secret PINK yogas                  2   \n",
       " 77539      77539                  Mens jeans 36X30 2 pairs                  3   \n",
       " 418200    418200                                  iPhone 5                  4   \n",
       " 391255    391255                      Hollister blue vneck                  1   \n",
       " 38355      38355                     Maroon Leather Jacket                  2   \n",
       " ...          ...                                       ...                ...   \n",
       " 187972    187972               Pink heat dangle navel ring                  1   \n",
       " 243620    243620                   Non slip white sketches                  3   \n",
       " 148271    148271       On Hold for Jennifer LEffleur spray                  2   \n",
       " 205017    205017                  Bring Me the Horizon tee                  2   \n",
       " 229277    229277                        Kappa delta jersey                  1   \n",
       " 474075    474075                    Lululemon tank and bra                  2   \n",
       " 98459      98459                  Ps2 system PlayStation 2                  4   \n",
       " 201236    201236                           HM Burgundy Tee                  3   \n",
       " 301247    301247                              Build A Bear                  2   \n",
       " 403982    403982                           Verizon Hotspot                  2   \n",
       " 59492      59492        FSHIP Brandy Melville Charlene Top                  2   \n",
       " 143164    143164                       Lavender snow slime                  1   \n",
       " 464774    464774               BLACK SWING SKIRT by Chicos                  2   \n",
       " 241683    241683       Louis Vuitton St Cloud pm Crossbody                  3   \n",
       " 156463    156463                      M Julia EUC. LULAROE                  2   \n",
       " 131381    131381                 Nike Capri Leggings SMALL                  1   \n",
       " 55925      55925           Kylie Cosmetics king k lipstick                  3   \n",
       " 129923    129923            Mirrors Edge for PlayStation 3                  3   \n",
       " 40212      40212      Perfume Sample Lot  4 tiny  1 deluxe                  1   \n",
       " 222637    222637      LARGE LIP PLUMPER PLUMP ENHANCER NEW                  1   \n",
       " 149909    149909                                 Handcuffs                  3   \n",
       " 96158      96158                         BCBG Maxaria robe                  2   \n",
       " 449709    449709                  Benefit Cosmetics Bundle                  2   \n",
       " 110692    110692                              Hunter Boots                  3   \n",
       " 99948      99948                         LG V20 Phone Case                  2   \n",
       " 331344    331344                Melissa Doug ninja costume                  1   \n",
       " 230791    230791    Perfectly Posh Sleepy Sleep Skin Stick                  1   \n",
       " 416283    416283                     3 makeup bags from VS                  1   \n",
       " 195276    195276                             Nike KD shoes                  3   \n",
       " 205715    205715                       New kimono cardigan                  1   \n",
       " \n",
       "                                             category_name        brand_name  \\\n",
       " 392032                                    Kids/Toys/Games           Pokemon   \n",
       " 188311                      Beauty/Makeup/Makeup Palettes              Ulta   \n",
       " 350588         Electronics/TV Audio  Surveillance/Gadgets              Roku   \n",
       " 426575                        Women/Tops  Blouses/TShirts  Victorias Secret   \n",
       " 321073                           Women/Jeans/Straight Leg             Levis   \n",
       " 276865                              Home/Home Dcor/Clocks              LEGO   \n",
       " 213195                  Kids/Toys/Action Figures  Statues     Jakks Pacific   \n",
       " 47744                                   Women/Skirts/Mini   Ann Taylor LOFT   \n",
       " 202434                   Women/Underwear/GStrings  Thongs               NaN   \n",
       " 154165                                    Men/Tops/Henley         Hollister   \n",
       " 145807                            Women/Sweaters/Crewneck   Ann Taylor LOFT   \n",
       " 57109                      Women/Womens Accessories/Belts        Tory Burch   \n",
       " 422257                                  Kids/Toys/Hobbies             Funko   \n",
       " 454156                           Women/Dresses/KneeLength              Cato   \n",
       " 201887                                 Beauty/Makeup/Eyes               NaN   \n",
       " 33436                            Kids/Boys 4/Top  Tshirts              Nike   \n",
       " 46126                   Kids/Toys/Action Figures  Statues               NaN   \n",
       " 458659                      Home/Kitchen  Dining/Bakeware            Wilton   \n",
       " 415645                             Kids/Toys/Arts  Crafts            Elmers   \n",
       " 277395                        Kids/Boys 024 Mos/OnePieces           Carters   \n",
       " 289024          Women/Womens Accessories/Hair Accessories               NaN   \n",
       " 54035                             Women/Jeans/Slim Skinny         Hollister   \n",
       " 282416                            Women/Swimwear/TwoPiece  Victorias Secret   \n",
       " 240967                   Kids/Toys/Stuffed Animals  Plush               NaN   \n",
       " 21859                                  Beauty/Makeup/Lips        Bonne Bell   \n",
       " 370300       Women/Athletic Apparel/Pants Tights Leggings              PINK   \n",
       " 77539                               Men/Jeans/Slim Skinny             Levis   \n",
       " 418200  Electronics/Cell Phones  Accessories/Cell Phon...             Apple   \n",
       " 391255                               Women/Sweaters/VNeck         Hollister   \n",
       " 38355                      Women/Athletic Apparel/Jackets        FOREVER 21   \n",
       " ...                                                   ...               ...   \n",
       " 187972                                Women/Jewelry/Rings               NaN   \n",
       " 243620                               Women/Shoes/Athletic          SKECHERS   \n",
       " 148271                             Beauty/Fragrance/Women               NaN   \n",
       " 205017                        Women/Tops  Blouses/TShirts               NaN   \n",
       " 229277                        Women/Tops  Blouses/TShirts               NaN   \n",
       " 474075                Women/Athletic Apparel/Shirts  Tops         Lululemon   \n",
       " 98459             Electronics/Video Games  Consoles/Games       PlayStation   \n",
       " 201236                                   Men/Tops/Tshirts                HM   \n",
       " 301247                   Kids/Toys/Stuffed Animals  Plush               NaN   \n",
       " 403982  Electronics/Computers  Tablets/Networking  Con...               NaN   \n",
       " 59492                        Women/Tops  Blouses/Knit Top   Brandy Melville   \n",
       " 143164                             Kids/Toys/Arts  Crafts               NaN   \n",
       " 464774                           Women/Dresses/KneeLength            Chicos   \n",
       " 241683         Women/Womens Handbags/Messenger  Crossbody     Louis Vuitton   \n",
       " 156463                           Women/Dresses/KneeLength           LuLaRoe   \n",
       " 131381       Women/Athletic Apparel/Pants Tights Leggings              Nike   \n",
       " 55925                                  Beauty/Makeup/Lips   Kylie Cosmetics   \n",
       " 129923            Electronics/Video Games  Consoles/Games               NaN   \n",
       " 40212                              Beauty/Fragrance/Women               NaN   \n",
       " 222637                                 Beauty/Makeup/Eyes               NaN   \n",
       " 149909                         Men/Mens Accessories/Other               NaN   \n",
       " 96158                          Handmade/Clothing/Lingerie               NaN   \n",
       " 449709                          Beauty/Makeup/Makeup Sets           Benefit   \n",
       " 110692                                 Kids/Girls 4/Shoes               NaN   \n",
       " 99948   Electronics/Cell Phones  Accessories/Cell Phon...               NaN   \n",
       " 331344                   Kids/Toys/Dress Up  Pretend Play     Melissa  Doug   \n",
       " 230791                              Beauty/Skin Care/Body               NaN   \n",
       " 416283                Women/Womens Handbags/Cosmetic Bags  Victorias Secret   \n",
       " 195276                                 Men/Shoes/Athletic              Nike   \n",
       " 205715                            Women/Sweaters/Cardigan        FOREVER 21   \n",
       " \n",
       "         shipping                                   item_description  \n",
       " 392032         0  Good Condition If Your A Charizard Fan You Cam...  \n",
       " 188311         1  Brand New Sealed A set of 12 universally flatt...  \n",
       " 350588         1                                          BRAND NEW  \n",
       " 426575         0  PLEASE READ Victorias Secret PINK Size LARGE F...  \n",
       " 321073         0  Brand new with tags NWT Levi jeans mid rise st...  \n",
       " 276865         0                                                New  \n",
       " 213195         0  This listing is for 10 new packs of Disney Tsu...  \n",
       " 47744          1                   Size 6 fully lined front pockets  \n",
       " 202434         0  Sexy feather panties  matching cat ears Marked...  \n",
       " 154165         0  Hollister Mens Long Sleeve Shirt. Size Large. ...  \n",
       " 145807         0        Good condition. Comes from smoke free home.  \n",
       " 57109          1  Tory Burch belts Style number. 11125211 Color ...  \n",
       " 422257         0                           Lord Boros Saitama Genos  \n",
       " 454156         0  Pretty polka dot Cato dress size 14 large. Onl...  \n",
       " 201887         1                  Latisse eye lash grow by allergan  \n",
       " 33436          0                                    Great condition  \n",
       " 46126          0  This bundle also includes Randy Orton Rusev Ka...  \n",
       " 458659         0  Set of 2 Wilton heavy duty Holiday/Winter cupc...  \n",
       " 415645         0                              8oz comes with extras  \n",
       " 277395         0  Adorable newborn Carters baby boy outfit Black...  \n",
       " 289024         1  LAST ONE This is for 3 yards 9 feet of new pri...  \n",
       " 54035          0           size 00 SHORT Skinny Jeggings Never worn  \n",
       " 282416         0  This swimsuit is super cute I only wore it may...  \n",
       " 240967         1  The totoro cat bus and soot isnt available Ple...  \n",
       " 21859          1                                  All NIP 3 flavors  \n",
       " 370300         0  Never worn PINK yogas. Theres no marks or anyt...  \n",
       " 77539          1   Skinny fit great condition jeans 36 x 30 2 pairs  \n",
       " 418200         1  I have an iPhone 5 here has some cracks but it...  \n",
       " 391255         0                                   Long sleeve. NWT  \n",
       " 38355          0  Super cute and pretty color Like a wine red co...  \n",
       " ...          ...                                                ...  \n",
       " 187972         1  This barbell is 14 gauge and 7/16 in length. T...  \n",
       " 243620         0  White sketches non slip gym shoes. I used to w...  \n",
       " 148271         0                                        New .375 oz  \n",
       " 205017         0                                 No description yet  \n",
       " 229277         0                                 No description yet  \n",
       " 474075         1  Size 2 Lululemon bra and matching tank Worn a ...  \n",
       " 98459          0  Selling playstation 2 slim with 2 controllers....  \n",
       " 201236         0                                 No description yet  \n",
       " 301247         0  Like New Build a Bear Bearamy comes with dress...  \n",
       " 403982         0  Verizon wireless hotspot everything included c...  \n",
       " 59492          1  not sold in stores anymore this is the made in...  \n",
       " 143164         0  We do not use borax product may contain other ...  \n",
       " 464774         1  SIZE 1/Women  Black Skirt Flare Bottom..... El...  \n",
       " 241683         0  100 Authentic Guaranteed SZPM If n Doubt conta...  \n",
       " 156463         1  Worn maybe once. Washed per LuLaRoe. M Julia. ...  \n",
       " 131381         0                                 No description yet  \n",
       " 55925          0  Kylie Cosmetics metal matte liquid lipstick in...  \n",
       " 129923         1  I am selling my entire Game collection so plea...  \n",
       " 40212          1                             Free shipping i bundle  \n",
       " 222637         1  Get the sexy glam full lips with this super ea...  \n",
       " 149909         0  I am selling my smith and Wesson stainless ste...  \n",
       " 96158          0  Size extra small beautiful lace print detail g...  \n",
       " 449709         0  Benefit Cosmetics Bundle price is for all. Wil...  \n",
       " 110692         0  Kids black gloss Hunter Boots. Size 5 for girl...  \n",
       " 99948          0  Brand new LGV20 Verizon Wireless silicon case....  \n",
       " 331344         1                                       36 years old  \n",
       " 230791         1                              Brand New Sleep Stick  \n",
       " 416283         0  NWT one small one medium and one large makeup ...  \n",
       " 195276         0  Boys size 7. Lightly used. Pattern is reflecti...  \n",
       " 205715         0  Brand new never used. Very pretty and soft mat...  \n",
       " \n",
       " [427239 rows x 7 columns],\n",
       "         train_id                                      name  item_condition_id  \\\n",
       " 309952    309952               PartyLite Iced Crystal Trio                  2   \n",
       " 217101    217101                  11 Nicholas Sparks books                  3   \n",
       " 266763    266763  Deva Curl Supercream Coconut Curl Styler                  1   \n",
       " 157912    157912                 Maxi skirt teal print MED                  1   \n",
       " 384899    384899        6 packs Stayfree Maxi Pads Regular                  1   \n",
       " 133882    133882    Vintage Eddie Bauer Plaid Skirt Size 4                  3   \n",
       " 417559    417559     NWT FREE SHIP CC Beanie Knit hat Wine                  1   \n",
       " 407124    407124                         iPhone 5/5s cases                  3   \n",
       " 112965    112965     Armani Exchange grey ion plated watch                  3   \n",
       " 94193      94193           Liner Sock lace no show 3 pairs                  1   \n",
       " 71471      71471   NES Nintendo R/F Switch Great Condition                  2   \n",
       " 451317    451317               Under Armour Thermal Sweats                  2   \n",
       " 13248      13248         Sassy Girl Aroma mint wax destash                  2   \n",
       " 218802    218802   Wedding Ring Set Sterling Silver Plated                  1   \n",
       " 396990    396990       Este Lauder Time Zone Wrinkle Creme                  1   \n",
       " 38063      38063                          Nike SB backpack                  2   \n",
       " 435083    435083               Jennarti Bundle Cheek Color                  1   \n",
       " 257466    257466                         Nerf gun for sale                  3   \n",
       " 471292    471292                                   Lularoe                  3   \n",
       " 370728    370728                         Black Uggs size 7                  3   \n",
       " 332332    332332  BUNDLE discount Celebrity lace front wig                  1   \n",
       " 302049    302049               10 brand new pregnancy test                  1   \n",
       " 210113    210113   Kendra Scott Magenta Andy and Elles Set                  2   \n",
       " 35314      35314          Lularoe Small Arrows Classic Tee                  1   \n",
       " 67897      67897                         Gimme Brow Bundle                  1   \n",
       " 181741    181741                         Listing for Elsie                  1   \n",
       " 313245    313245   LuLaRoe French Fry Leggings OS One Size                  3   \n",
       " 360249    360249   Authentic kylie cosmetics bundle bronze                  3   \n",
       " 385645    385645                   Thirty One zip top tote                  1   \n",
       " 257228    257228                         GymShark Leggings                  1   \n",
       " ...          ...                                       ...                ...   \n",
       " 49939      49939                            Colorful dress                  2   \n",
       " 89885      89885          Lularoe black design leggings OS                  1   \n",
       " 295719    295719                          Super Cute Heels                  2   \n",
       " 434336    434336    PS Vita with a game and 4g memory card                  3   \n",
       " 63122      63122              Lularoe size large Patrick t                  1   \n",
       " 420851    420851                             HM peplum top                  2   \n",
       " 361685    361685                      Dirtbag Print Beanie                  3   \n",
       " 52327      52327                                   Mk belt                  1   \n",
       " 241066    241066                  Este Lauder Lipstick Set                  1   \n",
       " 262851    262851                          Wine Swing Dress                  2   \n",
       " 388138    388138                       LuLaRoe Tc leggings                  3   \n",
       " 432800    432800                            Ex1 Foundation                  3   \n",
       " 247531    247531                        Doc martens size 7                  2   \n",
       " 327862    327862                          For Phoenix_2099                  1   \n",
       " 353401    353401                      LuLaRoe Lola SkirtXL                  1   \n",
       " 310077    310077                                Pretty jar                  2   \n",
       " 256112    256112                             Hold for Lupe                  3   \n",
       " 58131      58131           Victoria secret PINK sports bra                  1   \n",
       " 245614    245614              Ariat Vest Black Size Medium                  2   \n",
       " 164013    164013        Lululemon run for your life crop 8                  3   \n",
       " 170905    170905              Denizen By Levi Capri Size 4                  3   \n",
       " 445121    445121   Bury My Heart at Wounded Knee DVD movie                  1   \n",
       " 249157    249157     Victorias Secret Flirt Bandeau Bikini                  1   \n",
       " 365086    365086             Pokemon Ranger games Pranston                  3   \n",
       " 221849    221849          Mokinne bikini Op sexy girl mint                  3   \n",
       " 377989    377989                     Season 8 shopkins lot                  2   \n",
       " 211531    211531          Pandora Lucky Horseshoe/lady bug                  3   \n",
       " 159881    159881                     2 VSX Sport Bras BNWT                  1   \n",
       " 192575    192575   Dragon Ball Z Budokai HD Collection PS3                  3   \n",
       " 432353    432353                             Dinotopia DVD                  3   \n",
       " \n",
       "                                             category_name  \\\n",
       " 309952                    Home/Home Dcor/Candles  Holders   \n",
       " 217101                    Other/Books/Literature  Fiction   \n",
       " 266763                  Beauty/Hair Care/Styling Products   \n",
       " 157912                                  Women/Skirts/Maxi   \n",
       " 384899            Other/Daily  Travel items/Personal Care   \n",
       " 133882                       Women/Skirts/Straight Pencil   \n",
       " 417559                          Men/Mens Accessories/Hats   \n",
       " 407124  Electronics/Cell Phones  Accessories/Cases Cov...   \n",
       " 112965                       Men/Mens Accessories/Watches   \n",
       " 94193                        Women/Athletic Apparel/Socks   \n",
       " 71471       Electronics/Video Games  Consoles/Accessories   \n",
       " 451317            Men/Athletic Apparel/Tracksuits  Sweats   \n",
       " 13248               Beauty/Fragrance/Candles  Home Scents   \n",
       " 218802                                Women/Jewelry/Rings   \n",
       " 396990                              Beauty/Skin Care/Face   \n",
       " 38063     Men/Mens Accessories/Backpacks Bags  Briefcases   \n",
       " 435083                                 Beauty/Makeup/Face   \n",
       " 257466                     Kids/Toys/Sports  Outdoor Play   \n",
       " 471292       Women/Athletic Apparel/Pants Tights Leggings   \n",
       " 370728                                  Women/Shoes/Boots   \n",
       " 332332                          Handmade/Accessories/Hair   \n",
       " 302049    Kids/Pregnancy  Maternity/Family Planning Tests   \n",
       " 210113                             Women/Jewelry/Earrings   \n",
       " 35314                         Women/Tops  Blouses/TShirts   \n",
       " 67897                                  Beauty/Makeup/Eyes   \n",
       " 181741                              Women/Jeans/Boyfriend   \n",
       " 313245       Women/Athletic Apparel/Pants Tights Leggings   \n",
       " 360249                      Beauty/Makeup/Makeup Palettes   \n",
       " 385645              Women/Womens Handbags/Totes  Shoppers   \n",
       " 257228       Women/Athletic Apparel/Pants Tights Leggings   \n",
       " ...                                                   ...   \n",
       " 49939                            Women/Dresses/KneeLength   \n",
       " 89885        Women/Athletic Apparel/Pants Tights Leggings   \n",
       " 295719                                  Women/Shoes/Other   \n",
       " 434336         Electronics/Video Games  Consoles/Consoles   \n",
       " 63122                         Women/Tops  Blouses/TShirts   \n",
       " 420851                         Women/Tops  Blouses/Blouse   \n",
       " 361685                          Men/Mens Accessories/Hats   \n",
       " 52327                      Women/Womens Accessories/Belts   \n",
       " 241066                                 Beauty/Makeup/Lips   \n",
       " 262851                           Women/Dresses/KneeLength   \n",
       " 388138       Women/Athletic Apparel/Pants Tights Leggings   \n",
       " 432800                                 Beauty/Makeup/Face   \n",
       " 247531                                  Women/Shoes/Boots   \n",
       " 327862            Electronics/Video Games  Consoles/Games   \n",
       " 353401                           Women/Dresses/KneeLength   \n",
       " 310077                   Home/Home Dcor/Home Dcor Accents   \n",
       " 256112                        Other/Books/Childrens Books   \n",
       " 58131                  Women/Athletic Apparel/Sports Bras   \n",
       " 245614                          Women/Coats  Jackets/Vest   \n",
       " 164013       Women/Athletic Apparel/Pants Tights Leggings   \n",
       " 170905                          Women/Jeans/Capri Cropped   \n",
       " 445121                              Electronics/Media/DVD   \n",
       " 249157                            Women/Swimwear/TwoPiece   \n",
       " 365086            Electronics/Video Games  Consoles/Games   \n",
       " 221849                            Women/Swimwear/OnePiece   \n",
       " 377989                  Kids/Toys/Action Figures  Statues   \n",
       " 211531                            Women/Jewelry/Bracelets   \n",
       " 159881                 Women/Athletic Apparel/Sports Bras   \n",
       " 192575            Electronics/Video Games  Consoles/Games   \n",
       " 432353                              Electronics/Media/DVD   \n",
       " \n",
       "                       brand_name  shipping  \\\n",
       " 309952                 PartyLite         1   \n",
       " 217101                       NaN         1   \n",
       " 266763                       NaN         0   \n",
       " 157912                       NaN         1   \n",
       " 384899                  Stayfree         0   \n",
       " 133882               Eddie Bauer         0   \n",
       " 417559                       NaN         1   \n",
       " 407124                       NaN         1   \n",
       " 112965        AX Armani Exchange         1   \n",
       " 94193                        NaN         1   \n",
       " 71471                   Nintendo         1   \n",
       " 451317              Under Armour         0   \n",
       " 13248                        NaN         0   \n",
       " 218802                       NaN         1   \n",
       " 396990              Estee Lauder         1   \n",
       " 38063                       Nike         1   \n",
       " 435083                  Mary Kay         0   \n",
       " 257466                      Nerf         1   \n",
       " 471292  Customized  Personalized         0   \n",
       " 370728             UGG Australia         1   \n",
       " 332332                       NaN         1   \n",
       " 302049                       NaN         0   \n",
       " 210113              Kendra Scott         1   \n",
       " 35314                        NaN         1   \n",
       " 67897                    Benefit         1   \n",
       " 181741                       NaN         1   \n",
       " 313245                       NaN         0   \n",
       " 360249           Kylie Cosmetics         1   \n",
       " 385645                       NaN         0   \n",
       " 257228                       NaN         0   \n",
       " ...                          ...       ...   \n",
       " 49939                        NaN         1   \n",
       " 89885                        NaN         0   \n",
       " 295719                       NaN         1   \n",
       " 434336                      Sony         1   \n",
       " 63122                    LuLaRoe         1   \n",
       " 420851                        HM         0   \n",
       " 361685                       NaN         0   \n",
       " 52327               Michael Kors         0   \n",
       " 241066              Estee Lauder         1   \n",
       " 262851                       NaN         1   \n",
       " 388138                   LuLaRoe         0   \n",
       " 432800                       NaN         0   \n",
       " 247531               Dr. Martens         0   \n",
       " 327862                      Sony         1   \n",
       " 353401                   LuLaRoe         0   \n",
       " 310077                       NaN         0   \n",
       " 256112                       NaN         0   \n",
       " 58131                       PINK         0   \n",
       " 245614                     Ariat         0   \n",
       " 164013                       NaN         0   \n",
       " 170905                     Levis         0   \n",
       " 445121                       NaN         0   \n",
       " 249157          Victorias Secret         1   \n",
       " 365086                  Nintendo         0   \n",
       " 221849                        Op         0   \n",
       " 377989                Moose Toys         1   \n",
       " 211531                   PANDORA         1   \n",
       " 159881          Victorias Secret         1   \n",
       " 192575                      Sony         1   \n",
       " 432353                       NaN         1   \n",
       " \n",
       "                                          item_description  \n",
       " 309952  PartyLite Iced Crystal Trio. But comes with 4 ...  \n",
       " 217101  Love love love these books. You can buy alone ...  \n",
       " 266763                                         Never used  \n",
       " 157912  Long maxi skirt Aztec print. NWT. Never worn. ...  \n",
       " 384899  6 packs  24 pads per pack All new unopened 144...  \n",
       " 133882             Vintage no rips stains or pulls Size 4  \n",
       " 417559  NWT Unisex Ribbed cable knit beanie slouchy th...  \n",
       " 407124  Used IPhone cases have a few defects hence the...  \n",
       " 112965  Some wear on grey leather band. Fixed bezel. G...  \n",
       " 94193   Very Cute lace You will get 3 pairs  White bei...  \n",
       " 71471                                  No description yet  \n",
       " 451317  Both Size Large Great Condition Price Negotiab...  \n",
       " 13248   SGA chunk bags Please read full description an...  \n",
       " 218802  Free Shipping Available sizes Size 5 Size 6 Si...  \n",
       " 396990  Este Lauder Time Zone Line  Wrinkle Creme. NEW...  \n",
       " 38063   Was used maybe 1 or 2 times. No rips or stains...  \n",
       " 435083           3 Sparkling Cider3 for rm plus shipping.  \n",
       " 257466  I have a nerf gun for sale.It has 2 accessorie...  \n",
       " 471292  Black leggings One size with flower print worn...  \n",
       " 370728                         Bailey Uggs black 3 button  \n",
       " 332332  NEW NEVER WORN OsaroJewel deliver star quality...  \n",
       " 302049                        10 brand new pregnancy test  \n",
       " 210113  Andy Bracelet is NWT/ Elles are in Excellent C...  \n",
       " 35314   Black background grayish white arrows Brand ne...  \n",
       " 67897   These are DELUXE MINI TRAVEL SIZE Gimme Brow 1...  \n",
       " 181741                            Size 18 Boyfriend jeans  \n",
       " 313245  Super cute OS leggings  worn once. Washed on g...  \n",
       " 360249  Both have been gently used. Copper creme eyesh...  \n",
       " 385645  Thirty One zip top tote new only used to displ...  \n",
       " 257228  Brand New  I need a size medium Willing to neg...  \n",
       " ...                                                   ...  \n",
       " 49939                                  No description yet  \n",
       " 89885                                    New in packaging  \n",
       " 295719  Used once for pictures but they are really big...  \n",
       " 434336  PS Vita with MLB Show 2012 4g memory card Char...  \n",
       " 63122                                                 Nwt  \n",
       " 420851       Yellow and black peplum top with gold zipper  \n",
       " 361685  great condition ships asap polo  tommy hilfige...  \n",
       " 52327                           New never worn size large  \n",
       " 241066  Set of 10 unused Este Lauder Pure Color lipsti...  \n",
       " 262851                 Beautiful wine colored swing dress  \n",
       " 388138  Used once excellent condition. Tall  Curvy Smo...  \n",
       " 432800                  F100 color. Used couple of times.  \n",
       " 247531                                 No description yet  \n",
       " 327862                                           Ray ride  \n",
       " 353401  NWT. Black and white roses. Smoke and pet free...  \n",
       " 310077  Made by me Hand painted  decorated jar in a pr...  \n",
       " 256112                          Bundle of books  and bear  \n",
       " 58131   Victoria secret pink sport bra New with tags S...  \n",
       " 245614  Excellent Used Condition Black quilted looking...  \n",
       " 164013  EUC size 8 black only flaw is in gusset area t...  \n",
       " 170905  Welcome to my closet First thank you in advanc...  \n",
       " 445121                            Brand new never opened.  \n",
       " 249157  NWT Size 34D Bikini Bra Top Detachable halter ...  \n",
       " 365086              Ranger and Ranger Shadow for Pranston  \n",
       " 221849  A black white and hot pink bikini size large b...  \n",
       " 377989                    Brand new shopkins season 8 Lot  \n",
       " 211531  Authentic Pandora in great condition. Free shi...  \n",
       " 159881  1 hot pink 1 black and white design with pink ...  \n",
       " 192575  Awesome collectors game for the PlayStation 3 ...  \n",
       " 432353                   good conditions two disc feature  \n",
       " \n",
       " [47471 rows x 7 columns],\n",
       " 392032      8.0\n",
       " 188311     15.0\n",
       " 350588     63.0\n",
       " 426575     36.0\n",
       " 321073     19.0\n",
       " 276865     26.0\n",
       " 213195     28.0\n",
       " 47744       8.0\n",
       " 202434     12.0\n",
       " 154165     14.0\n",
       " 145807      9.0\n",
       " 57109      65.0\n",
       " 422257     31.0\n",
       " 454156     10.0\n",
       " 201887     95.0\n",
       " 33436      14.0\n",
       " 46126      36.0\n",
       " 458659     16.0\n",
       " 415645     13.0\n",
       " 277395     16.0\n",
       " 289024      7.0\n",
       " 54035      20.0\n",
       " 282416     17.0\n",
       " 240967     10.0\n",
       " 21859       6.0\n",
       " 370300     18.0\n",
       " 77539      20.0\n",
       " 418200     40.0\n",
       " 391255     14.0\n",
       " 38355      26.0\n",
       "           ...  \n",
       " 187972      8.0\n",
       " 243620     21.0\n",
       " 148271     20.0\n",
       " 205017     15.0\n",
       " 229277     51.0\n",
       " 474075     15.0\n",
       " 98459      21.0\n",
       " 201236      9.0\n",
       " 301247      7.0\n",
       " 403982     14.0\n",
       " 59492      21.0\n",
       " 143164     14.0\n",
       " 464774     22.0\n",
       " 241683    196.0\n",
       " 156463     25.0\n",
       " 131381     19.0\n",
       " 55925      17.0\n",
       " 129923      9.0\n",
       " 40212       9.0\n",
       " 222637      7.0\n",
       " 149909     26.0\n",
       " 96158      20.0\n",
       " 449709     14.0\n",
       " 110692     51.0\n",
       " 99948      12.0\n",
       " 331344     15.0\n",
       " 230791     13.0\n",
       " 416283     19.0\n",
       " 195276     13.0\n",
       " 205715     14.0\n",
       " Name: price, Length: 427239, dtype: float64,\n",
       " 309952     8.0\n",
       " 217101    23.0\n",
       " 266763    24.0\n",
       " 157912    10.0\n",
       " 384899    12.0\n",
       " 133882     9.0\n",
       " 417559    12.0\n",
       " 407124     3.0\n",
       " 112965    42.0\n",
       " 94193      9.0\n",
       " 71471      6.0\n",
       " 451317    16.0\n",
       " 13248     21.0\n",
       " 218802    15.0\n",
       " 396990    13.0\n",
       " 38063     20.0\n",
       " 435083    20.0\n",
       " 257466    10.0\n",
       " 471292    19.0\n",
       " 370728    45.0\n",
       " 332332    89.0\n",
       " 302049    14.0\n",
       " 210113    75.0\n",
       " 35314     35.0\n",
       " 67897     13.0\n",
       " 181741    33.0\n",
       " 313245    28.0\n",
       " 360249    35.0\n",
       " 385645    24.0\n",
       " 257228    48.0\n",
       "           ... \n",
       " 49939      7.0\n",
       " 89885     22.0\n",
       " 295719    15.0\n",
       " 434336    85.0\n",
       " 63122     20.0\n",
       " 420851    12.0\n",
       " 361685     8.0\n",
       " 52327     16.0\n",
       " 241066    45.0\n",
       " 262851    20.0\n",
       " 388138    15.0\n",
       " 432800    16.0\n",
       " 247531    26.0\n",
       " 327862    80.0\n",
       " 353401    46.0\n",
       " 310077     8.0\n",
       " 256112    18.0\n",
       " 58131     18.0\n",
       " 245614    31.0\n",
       " 164013    34.0\n",
       " 170905    15.0\n",
       " 445121     9.0\n",
       " 249157    26.0\n",
       " 365086    19.0\n",
       " 221849    14.0\n",
       " 377989    32.0\n",
       " 211531    30.0\n",
       " 159881    25.0\n",
       " 192575    18.0\n",
       " 432353     5.0\n",
       " Name: price, Length: 47471, dtype: float64)"
      ]
     },
     "execution_count": 7,
     "metadata": {},
     "output_type": "execute_result"
    }
   ],
   "source": [
    "from  sklearn.model_selection import train_test_split\n",
    "X_train,X_test,y_train,y_test=train_test_split(train_data.drop(['price'],axis=1),train_data['price'],test_size=0.1)\n",
    "# X_train,X_text,y_train,y_test"
   ]
  },
  {
   "cell_type": "code",
   "execution_count": 8,
   "metadata": {},
   "outputs": [
    {
     "name": "stdout",
     "output_type": "stream",
     "text": [
      "<class 'pandas.core.frame.DataFrame'>\n",
      "Int64Index: 427239 entries, 392032 to 205715\n",
      "Data columns (total 7 columns):\n",
      "train_id             427239 non-null int64\n",
      "name                 427237 non-null object\n",
      "item_condition_id    427239 non-null int64\n",
      "category_name        425376 non-null object\n",
      "brand_name           245083 non-null object\n",
      "shipping             427239 non-null int64\n",
      "item_description     427126 non-null object\n",
      "dtypes: int64(3), object(4)\n",
      "memory usage: 26.1+ MB\n"
     ]
    }
   ],
   "source": [
    "# X_train.info()"
   ]
  },
  {
   "cell_type": "code",
   "execution_count": 3,
   "metadata": {},
   "outputs": [
    {
     "data": {
      "text/html": [
       "<div>\n",
       "<style scoped>\n",
       "    .dataframe tbody tr th:only-of-type {\n",
       "        vertical-align: middle;\n",
       "    }\n",
       "\n",
       "    .dataframe tbody tr th {\n",
       "        vertical-align: top;\n",
       "    }\n",
       "\n",
       "    .dataframe thead th {\n",
       "        text-align: right;\n",
       "    }\n",
       "</style>\n",
       "<table border=\"1\" class=\"dataframe\">\n",
       "  <thead>\n",
       "    <tr style=\"text-align: right;\">\n",
       "      <th></th>\n",
       "      <th>train_id</th>\n",
       "      <th>name</th>\n",
       "      <th>item_condition_id</th>\n",
       "      <th>category_name</th>\n",
       "      <th>brand_name</th>\n",
       "      <th>price</th>\n",
       "      <th>shipping</th>\n",
       "      <th>item_description</th>\n",
       "    </tr>\n",
       "  </thead>\n",
       "  <tbody>\n",
       "    <tr>\n",
       "      <th>0</th>\n",
       "      <td>0</td>\n",
       "      <td>Black Lace Slimming Panties Medium NWT</td>\n",
       "      <td>1</td>\n",
       "      <td>Women/Underwear/Panties</td>\n",
       "      <td>NaN</td>\n",
       "      <td>7.0</td>\n",
       "      <td>0</td>\n",
       "      <td>Black Lace Slimming Panties. Size Medium. New ...</td>\n",
       "    </tr>\n",
       "    <tr>\n",
       "      <th>1</th>\n",
       "      <td>1</td>\n",
       "      <td>small cat harness and leash</td>\n",
       "      <td>2</td>\n",
       "      <td>Other/Pet Supplies/Others</td>\n",
       "      <td>PetSafe</td>\n",
       "      <td>11.0</td>\n",
       "      <td>0</td>\n",
       "      <td>royal blue. for cats or small pets up to 12 lbs</td>\n",
       "    </tr>\n",
       "    <tr>\n",
       "      <th>2</th>\n",
       "      <td>2</td>\n",
       "      <td>VS iPhone case and lanyard</td>\n",
       "      <td>1</td>\n",
       "      <td>Electronics/Cell Phones  Accessories/Cases Cov...</td>\n",
       "      <td>NaN</td>\n",
       "      <td>11.0</td>\n",
       "      <td>1</td>\n",
       "      <td>Listing is for one phone case Hard cover case ...</td>\n",
       "    </tr>\n",
       "  </tbody>\n",
       "</table>\n",
       "</div>"
      ],
      "text/plain": [
       "   train_id                                    name  item_condition_id  \\\n",
       "0         0  Black Lace Slimming Panties Medium NWT                  1   \n",
       "1         1             small cat harness and leash                  2   \n",
       "2         2              VS iPhone case and lanyard                  1   \n",
       "\n",
       "                                       category_name brand_name  price  \\\n",
       "0                            Women/Underwear/Panties        NaN    7.0   \n",
       "1                          Other/Pet Supplies/Others    PetSafe   11.0   \n",
       "2  Electronics/Cell Phones  Accessories/Cases Cov...        NaN   11.0   \n",
       "\n",
       "   shipping                                   item_description  \n",
       "0         0  Black Lace Slimming Panties. Size Medium. New ...  \n",
       "1         0    royal blue. for cats or small pets up to 12 lbs  \n",
       "2         1  Listing is for one phone case Hard cover case ...  "
      ]
     },
     "execution_count": 3,
     "metadata": {},
     "output_type": "execute_result"
    }
   ],
   "source": [
    "train_data.head(3)"
   ]
  },
  {
   "cell_type": "code",
   "execution_count": 4,
   "metadata": {},
   "outputs": [
    {
     "name": "stdout",
     "output_type": "stream",
     "text": [
      "<class 'pandas.core.frame.DataFrame'>\n",
      "RangeIndex: 300000 entries, 0 to 299999\n",
      "Data columns (total 8 columns):\n",
      "train_id             300000 non-null int64\n",
      "name                 299995 non-null object\n",
      "item_condition_id    300000 non-null int64\n",
      "category_name        298719 non-null object\n",
      "brand_name           171929 non-null object\n",
      "price                300000 non-null float64\n",
      "shipping             300000 non-null int64\n",
      "item_description     299924 non-null object\n",
      "dtypes: float64(1), int64(3), object(4)\n",
      "memory usage: 18.3+ MB\n"
     ]
    }
   ],
   "source": [
    "train_data.info()"
   ]
  },
  {
   "cell_type": "markdown",
   "metadata": {},
   "source": [
    "* item_description特征缺失76行，将缺item_description的行删除"
   ]
  },
  {
   "cell_type": "code",
   "execution_count": 5,
   "metadata": {},
   "outputs": [
    {
     "name": "stdout",
     "output_type": "stream",
     "text": [
      "<class 'pandas.core.frame.DataFrame'>\n",
      "RangeIndex: 300000 entries, 0 to 299999\n",
      "Data columns (total 8 columns):\n",
      "train_id             300000 non-null int64\n",
      "name                 299995 non-null object\n",
      "item_condition_id    300000 non-null int64\n",
      "category_name        298719 non-null object\n",
      "brand_name           171929 non-null object\n",
      "price                300000 non-null float64\n",
      "shipping             300000 non-null int64\n",
      "item_description     300000 non-null object\n",
      "dtypes: float64(1), int64(3), object(4)\n",
      "memory usage: 18.3+ MB\n"
     ]
    }
   ],
   "source": [
    "train_data['item_description'] = train_data['item_description'].fillna('missing').astype(str)\n",
    "train_data.info()"
   ]
  },
  {
   "cell_type": "code",
   "execution_count": 6,
   "metadata": {
    "scrolled": true
   },
   "outputs": [
    {
     "name": "stdout",
     "output_type": "stream",
     "text": [
      "<class 'pandas.core.frame.DataFrame'>\n",
      "Int64Index: 299924 entries, 0 to 299999\n",
      "Data columns (total 8 columns):\n",
      "train_id             299924 non-null int64\n",
      "name                 299919 non-null object\n",
      "item_condition_id    299924 non-null int64\n",
      "category_name        298646 non-null object\n",
      "brand_name           171916 non-null object\n",
      "price                299924 non-null float64\n",
      "shipping             299924 non-null int64\n",
      "item_description     299924 non-null object\n",
      "dtypes: float64(1), int64(3), object(4)\n",
      "memory usage: 20.6+ MB\n"
     ]
    }
   ],
   "source": [
    "dele=[]\n",
    "for i in range(len(train_data['item_description'])):\n",
    "    if train_data['item_description'][i] == 'missing':\n",
    "        dele.append(i)\n",
    "\n",
    "for i in range(len(dele)):\n",
    "    train_data.drop([dele[i]],inplace=True)\n",
    "train_data.info()"
   ]
  },
  {
   "cell_type": "code",
   "execution_count": 7,
   "metadata": {},
   "outputs": [
    {
     "data": {
      "text/plain": [
       "Women/Athletic Apparel/Pants Tights Leggings                12028\n",
       "Women/Tops  Blouses/TShirts                                  9419\n",
       "Beauty/Makeup/Face                                           6914\n",
       "Beauty/Makeup/Lips                                           5968\n",
       "Electronics/Video Games  Consoles/Games                      5338\n",
       "Beauty/Makeup/Eyes                                           5159\n",
       "Electronics/Cell Phones  Accessories/Cases Covers  Skins     5051\n",
       "Women/Underwear/Bras                                         4409\n",
       "Women/Tops  Blouses/Tank Cami                                4132\n",
       "Women/Tops  Blouses/Blouse                                   4104\n",
       "Name: category_name, dtype: int64"
      ]
     },
     "execution_count": 7,
     "metadata": {},
     "output_type": "execute_result"
    }
   ],
   "source": [
    "train_data['category_name'].value_counts()[:10]"
   ]
  },
  {
   "cell_type": "code",
   "execution_count": 8,
   "metadata": {},
   "outputs": [],
   "source": [
    "# 训练集标签\n",
    "y_train = np.log1p(train_data['price'])"
   ]
  },
  {
   "cell_type": "markdown",
   "metadata": {},
   "source": [
    "* 缺失值填充"
   ]
  },
  {
   "cell_type": "code",
   "execution_count": 9,
   "metadata": {},
   "outputs": [],
   "source": [
    "train_data['name'] = train_data['name'].fillna('missing').astype(str)\n",
    "train_data['category_name'] = train_data['category_name'].fillna('missing').astype(str)\n",
    "train_data['brand_name'] = train_data['brand_name'].fillna('missing').astype(str)"
   ]
  },
  {
   "cell_type": "markdown",
   "metadata": {},
   "source": [
    "* 强制类型转换 "
   ]
  },
  {
   "cell_type": "code",
   "execution_count": 10,
   "metadata": {},
   "outputs": [
    {
     "name": "stdout",
     "output_type": "stream",
     "text": [
      "<class 'pandas.core.frame.DataFrame'>\n",
      "Int64Index: 299924 entries, 0 to 299999\n",
      "Data columns (total 8 columns):\n",
      "train_id             299924 non-null object\n",
      "name                 299924 non-null object\n",
      "item_condition_id    299924 non-null object\n",
      "category_name        299924 non-null object\n",
      "brand_name           299924 non-null object\n",
      "price                299924 non-null object\n",
      "shipping             299924 non-null object\n",
      "item_description     299924 non-null object\n",
      "dtypes: object(8)\n",
      "memory usage: 20.6+ MB\n"
     ]
    }
   ],
   "source": [
    "train_data['train_id'] = train_data['train_id'].astype(str)\n",
    "train_data['item_condition_id'] = train_data['item_condition_id'].astype(str)\n",
    "train_data['shipping'] = train_data['shipping'].astype(str)\n",
    "train_data['price'] = train_data['price'].astype(str)\n",
    "train_data.info()"
   ]
  },
  {
   "cell_type": "markdown",
   "metadata": {},
   "source": [
    "* PorterStemmer"
   ]
  },
  {
   "cell_type": "code",
   "execution_count": 11,
   "metadata": {},
   "outputs": [],
   "source": [
    "# from nltk.stem import PorterStemmer\n",
    "\n",
    "# stemmer = PorterStemmer()\n",
    "# train_data=train_data.applymap(stemmer.stem)\n",
    "# # train_data.info()"
   ]
  },
  {
   "cell_type": "markdown",
   "metadata": {},
   "source": [
    "* 合并训练集和测试集"
   ]
  },
  {
   "cell_type": "code",
   "execution_count": 12,
   "metadata": {},
   "outputs": [
    {
     "name": "stderr",
     "output_type": "stream",
     "text": [
      "D:\\Anaconda\\Anaconda\\lib\\site-packages\\ipykernel_launcher.py:2: FutureWarning: Sorting because non-concatenation axis is not aligned. A future version\n",
      "of pandas will change to not sort by default.\n",
      "\n",
      "To accept the future behavior, pass 'sort=False'.\n",
      "\n",
      "To retain the current behavior and silence the warning, pass 'sort=True'.\n",
      "\n",
      "  \n"
     ]
    },
    {
     "name": "stdout",
     "output_type": "stream",
     "text": [
      "<class 'pandas.core.frame.DataFrame'>\n",
      "Int64Index: 349924 entries, 0 to 49999\n",
      "Data columns (total 9 columns):\n",
      "brand_name           328708 non-null object\n",
      "category_name        349707 non-null object\n",
      "item_condition_id    349924 non-null object\n",
      "item_description     349924 non-null object\n",
      "name                 349924 non-null object\n",
      "price                299924 non-null object\n",
      "shipping             349924 non-null object\n",
      "test_id              50000 non-null float64\n",
      "train_id             299924 non-null object\n",
      "dtypes: float64(1), object(8)\n",
      "memory usage: 26.7+ MB\n"
     ]
    }
   ],
   "source": [
    "# 测试集有为空的\n",
    "df = pd.concat([train_data, test_data], axis=0)\n",
    "df.info()"
   ]
  },
  {
   "cell_type": "markdown",
   "metadata": {},
   "source": [
    "* df处理，缺失值填充"
   ]
  },
  {
   "cell_type": "code",
   "execution_count": 13,
   "metadata": {},
   "outputs": [
    {
     "data": {
      "text/html": [
       "<div>\n",
       "<style scoped>\n",
       "    .dataframe tbody tr th:only-of-type {\n",
       "        vertical-align: middle;\n",
       "    }\n",
       "\n",
       "    .dataframe tbody tr th {\n",
       "        vertical-align: top;\n",
       "    }\n",
       "\n",
       "    .dataframe thead th {\n",
       "        text-align: right;\n",
       "    }\n",
       "</style>\n",
       "<table border=\"1\" class=\"dataframe\">\n",
       "  <thead>\n",
       "    <tr style=\"text-align: right;\">\n",
       "      <th></th>\n",
       "      <th>brand_name</th>\n",
       "      <th>category_name</th>\n",
       "      <th>item_condition_id</th>\n",
       "      <th>item_description</th>\n",
       "      <th>name</th>\n",
       "      <th>shipping</th>\n",
       "    </tr>\n",
       "  </thead>\n",
       "  <tbody>\n",
       "    <tr>\n",
       "      <th>0</th>\n",
       "      <td>Funko</td>\n",
       "      <td>Vintage  Collectibles/Toy/Action Figure</td>\n",
       "      <td>3</td>\n",
       "      <td>Minor flaws check pic for condition Bundle to ...</td>\n",
       "      <td>Blue crystal Heisenberg Funko pop</td>\n",
       "      <td>1</td>\n",
       "    </tr>\n",
       "    <tr>\n",
       "      <th>1</th>\n",
       "      <td>Funko</td>\n",
       "      <td>Kids/Toys/Action Figures  Statues</td>\n",
       "      <td>2</td>\n",
       "      <td>Near mint 9/10</td>\n",
       "      <td>Funko Pop STAR WARS EMPEROR PALPATINE NM</td>\n",
       "      <td>1</td>\n",
       "    </tr>\n",
       "    <tr>\n",
       "      <th>2</th>\n",
       "      <td>missing</td>\n",
       "      <td>Electronics/Cell Phones  Accessories/Cases Cov...</td>\n",
       "      <td>3</td>\n",
       "      <td>Excellent condition black Otter Box phone case...</td>\n",
       "      <td>Black Otter Box iPhone 6 / 6s</td>\n",
       "      <td>0</td>\n",
       "    </tr>\n",
       "    <tr>\n",
       "      <th>3</th>\n",
       "      <td>missing</td>\n",
       "      <td>Home/Home Dcor/Lamps Accessories</td>\n",
       "      <td>1</td>\n",
       "      <td>No description yet</td>\n",
       "      <td>32ft Red lights</td>\n",
       "      <td>1</td>\n",
       "    </tr>\n",
       "    <tr>\n",
       "      <th>4</th>\n",
       "      <td>FOREVER 21</td>\n",
       "      <td>Women/Dresses/Above Knee Mini</td>\n",
       "      <td>3</td>\n",
       "      <td>Short dress with Aztec design on the front and...</td>\n",
       "      <td>Dress</td>\n",
       "      <td>0</td>\n",
       "    </tr>\n",
       "  </tbody>\n",
       "</table>\n",
       "</div>"
      ],
      "text/plain": [
       "   brand_name                                      category_name  \\\n",
       "0       Funko            Vintage  Collectibles/Toy/Action Figure   \n",
       "1       Funko                  Kids/Toys/Action Figures  Statues   \n",
       "2     missing  Electronics/Cell Phones  Accessories/Cases Cov...   \n",
       "3     missing                   Home/Home Dcor/Lamps Accessories   \n",
       "4  FOREVER 21                      Women/Dresses/Above Knee Mini   \n",
       "\n",
       "  item_condition_id                                   item_description  \\\n",
       "0                 3  Minor flaws check pic for condition Bundle to ...   \n",
       "1                 2                                     Near mint 9/10   \n",
       "2                 3  Excellent condition black Otter Box phone case...   \n",
       "3                 1                                 No description yet   \n",
       "4                 3  Short dress with Aztec design on the front and...   \n",
       "\n",
       "                                       name shipping  \n",
       "0         Blue crystal Heisenberg Funko pop        1  \n",
       "1  Funko Pop STAR WARS EMPEROR PALPATINE NM        1  \n",
       "2             Black Otter Box iPhone 6 / 6s        0  \n",
       "3                           32ft Red lights        1  \n",
       "4                                     Dress        0  "
      ]
     },
     "execution_count": 13,
     "metadata": {},
     "output_type": "execute_result"
    }
   ],
   "source": [
    "df = df.drop(['price', 'test_id', 'train_id'], axis=1)\n",
    "df['category_name'] = df['category_name'].fillna('MISS').astype(str)\n",
    "df['brand_name'] = df['brand_name'].fillna('missing').astype(str)\n",
    "df['item_description'] = df['item_description'].fillna('No')\n",
    "# df['item_description'] = df['item_description'].fillna(df['brand_name']+' '+df['name'])\n",
    "\n",
    "df['shipping'] = df['shipping'].astype(str)\n",
    "df['item_condition_id'] = df['item_condition_id'].astype(str)\n",
    "\n",
    "# 训练数据的行数\n",
    "nrow_train = train_data.shape[0]\n",
    "\n",
    "df.head()"
   ]
  },
  {
   "cell_type": "code",
   "execution_count": 14,
   "metadata": {},
   "outputs": [
    {
     "data": {
      "text/plain": [
       "Index(['brand_name', 'category_name', 'item_condition_id', 'item_description',\n",
       "       'name', 'shipping'],\n",
       "      dtype='object')"
      ]
     },
     "execution_count": 14,
     "metadata": {},
     "output_type": "execute_result"
    }
   ],
   "source": [
    "df.columns"
   ]
  },
  {
   "cell_type": "code",
   "execution_count": 15,
   "metadata": {},
   "outputs": [],
   "source": [
    "true_price = pd.read_csv(\"label_test.csv\", sep=\"\\t\").price.tolist()"
   ]
  },
  {
   "cell_type": "markdown",
   "metadata": {},
   "source": [
    "* CountVectorizer + Tfidf"
   ]
  },
  {
   "cell_type": "code",
   "execution_count": 16,
   "metadata": {},
   "outputs": [
    {
     "data": {
      "text/plain": [
       "<349924x8703 sparse matrix of type '<class 'numpy.int64'>'\n",
       "\twith 1377530 stored elements in Compressed Sparse Row format>"
      ]
     },
     "execution_count": 16,
     "metadata": {},
     "output_type": "execute_result"
    }
   ],
   "source": [
    "# name特征向量化，输出稀疏矩阵\n",
    "cv = CountVectorizer(min_df=10)\n",
    "X_name = cv.fit_transform(df['name'])\n",
    "X_name"
   ]
  },
  {
   "cell_type": "code",
   "execution_count": 17,
   "metadata": {},
   "outputs": [
    {
     "data": {
      "text/plain": [
       "<349924x975 sparse matrix of type '<class 'numpy.int64'>'\n",
       "\twith 1404351 stored elements in Compressed Sparse Row format>"
      ]
     },
     "execution_count": 17,
     "metadata": {},
     "output_type": "execute_result"
    }
   ],
   "source": [
    "# category_name特征向量化，输出稀疏矩阵\n",
    "cv = CountVectorizer()\n",
    "X_category = cv.fit_transform(df['category_name'])\n",
    "X_category"
   ]
  },
  {
   "cell_type": "code",
   "execution_count": 18,
   "metadata": {},
   "outputs": [],
   "source": [
    "# 利用tfidf向量化item_description属性，使用停词\n",
    "# tv = TfidfVectorizer(max_features=60000, ngram_range=(1, 2), stop_words='english')\n",
    "tv = TfidfVectorizer(max_features=100000, ngram_range=(1, 2), stop_words='english',token_pattern='\\w+')#好！\n",
    "X_description = tv.fit_transform(df['item_description'])"
   ]
  },
  {
   "cell_type": "code",
   "execution_count": null,
   "metadata": {},
   "outputs": [],
   "source": []
  },
  {
   "cell_type": "code",
   "execution_count": 19,
   "metadata": {},
   "outputs": [],
   "source": [
    "# 品牌+种类\n",
    "brand_cate = df['brand_name']+' '+df['category_name']\n",
    "X_brand_cate = tv.fit_transform(brand_cate)"
   ]
  },
  {
   "cell_type": "code",
   "execution_count": null,
   "metadata": {},
   "outputs": [],
   "source": []
  },
  {
   "cell_type": "code",
   "execution_count": 20,
   "metadata": {},
   "outputs": [],
   "source": [
    "# 描述+名字\n",
    "des_cate = df['item_description']+' '+df['name']\n",
    "X_des_cate = tv.fit_transform(des_cate)"
   ]
  },
  {
   "cell_type": "code",
   "execution_count": 21,
   "metadata": {},
   "outputs": [],
   "source": [
    "# 名称+种类+品牌\n",
    "ncb_cate = df['brand_name']+' '+df['name']+' '+df['category_name']\n",
    "X_ncb_cate = tv.fit_transform(ncb_cate)"
   ]
  },
  {
   "cell_type": "code",
   "execution_count": 22,
   "metadata": {},
   "outputs": [],
   "source": [
    "# 名称+种类\n",
    "# name_cate = df['name']+' '+df['category_name']\n",
    "# X_name_cate = tv.fit_transform(name_cate)"
   ]
  },
  {
   "cell_type": "code",
   "execution_count": null,
   "metadata": {},
   "outputs": [],
   "source": []
  },
  {
   "cell_type": "code",
   "execution_count": 23,
   "metadata": {},
   "outputs": [],
   "source": [
    "# brand_name二值化\n",
    "# lb = LabelBinarizer(sparse_output=True)\n",
    "X_brand = tv.fit_transform(df['brand_name'])"
   ]
  },
  {
   "cell_type": "code",
   "execution_count": 24,
   "metadata": {},
   "outputs": [],
   "source": [
    "# 合并item_condition_id，shipping属性形成一个新属性\n",
    "X_dummies = csr_matrix(pd.get_dummies(df[['item_condition_id', 'shipping']], sparse=True).values)\n",
    "\n",
    "# 合并各属性，形成一个系数矩阵\n",
    "# sparse_merge = hstack((X_dummies, X_description, X_brand, X_category, X_name,X_des_cate, X_brand_cate)).tocsr()\n",
    "sparse_merge = hstack((X_dummies, X_description, X_brand, X_category, X_name,X_des_cate, X_brand_cate,X_ncb_cate)).tocsr()"
   ]
  },
  {
   "cell_type": "markdown",
   "metadata": {},
   "source": [
    "* 划分训练集与测试集"
   ]
  },
  {
   "cell_type": "code",
   "execution_count": 25,
   "metadata": {},
   "outputs": [],
   "source": [
    "X_train_sparse = sparse_merge[:nrow_train]\n",
    "X_test = sparse_merge[nrow_train:]"
   ]
  },
  {
   "cell_type": "markdown",
   "metadata": {},
   "source": [
    "# Lgbm"
   ]
  },
  {
   "cell_type": "code",
   "execution_count": 26,
   "metadata": {},
   "outputs": [],
   "source": [
    "# # y_train = np.log1p(train_data['price'])\n",
    "# train_X = lgb.Dataset(X_train_sparse, label=y_train)"
   ]
  },
  {
   "cell_type": "code",
   "execution_count": 27,
   "metadata": {},
   "outputs": [],
   "source": [
    "\n",
    "# params = {\n",
    "#         'learning_rate': 0.4,\n",
    "#         'max_depth': 4,\n",
    "#         'num_leaves': 100,\n",
    "#         'metric': 'mse',\n",
    "#     }\n"
   ]
  },
  {
   "cell_type": "code",
   "execution_count": 28,
   "metadata": {},
   "outputs": [],
   "source": [
    "# gbm = lgb.train(params, train_set=train_X, num_boost_round=3800, verbose_eval=100)\n",
    "# # num_boost_round：boosting 的迭代次数\n",
    "# # verbose_eval：迭代多少次打印"
   ]
  },
  {
   "cell_type": "code",
   "execution_count": 29,
   "metadata": {},
   "outputs": [],
   "source": [
    "# y_pred = gbm.predict(X_test, num_iteration=gbm.best_iteration)"
   ]
  },
  {
   "cell_type": "code",
   "execution_count": 30,
   "metadata": {},
   "outputs": [],
   "source": [
    "# y_pre_true = np.expm1(y_pred)"
   ]
  },
  {
   "cell_type": "markdown",
   "metadata": {},
   "source": [
    "* 模型误差"
   ]
  },
  {
   "cell_type": "code",
   "execution_count": 31,
   "metadata": {},
   "outputs": [],
   "source": [
    "# from sklearn.metrics import mean_squared_log_error\n",
    "# mean_squared_log_error(true_price, y_pre_true)\n",
    "#                               +品牌+种类   描述+名字              +tv  brand_name             +名称+种类              +3500\n",
    "# 0.3097490417597127    0.8                                    \n",
    "# 0.3033324592965209    0.75    0.24971677027174807\n",
    "# 0.30297409282684656   0.7     \n",
    "# 0.2924852529344102    0.5    \n",
    "#                       0.435                                       0.23116733540797127                \n",
    "#                       0.4                                         0.23048268999359142                                 0.22972760045798618\n",
    "# 0.2909902128620731    0.37    0.23071333494801358                 0.23063115440336257         0.23435643863541147   \n",
    "# 0.29328001723848024   0.25    "
   ]
  },
  {
   "cell_type": "code",
   "execution_count": 32,
   "metadata": {},
   "outputs": [],
   "source": [
    "# 0.4   品牌+种类 描述+名字  +tv  brand_name   3800   0.22927714889704326\n",
    "#                                              3800  4   0.2288647837812071\n",
    "\n",
    "# 0.4   描述+名字  名称+种类+牌子  +tv  brand_name 3800  0.2314978669614828"
   ]
  },
  {
   "cell_type": "code",
   "execution_count": 33,
   "metadata": {},
   "outputs": [],
   "source": [
    "# print(y_pre_true)"
   ]
  },
  {
   "cell_type": "markdown",
   "metadata": {},
   "source": [
    "# 岭回归"
   ]
  },
  {
   "cell_type": "code",
   "execution_count": 34,
   "metadata": {},
   "outputs": [],
   "source": [
    "from sklearn.linear_model import Ridge"
   ]
  },
  {
   "cell_type": "code",
   "execution_count": 35,
   "metadata": {},
   "outputs": [],
   "source": [
    "def ridgeClassify(train_data, train_label):\n",
    "    ridgeClf = Ridge(\n",
    "        solver='auto',\n",
    "        fit_intercept=True,\n",
    "        alpha=0.5,\n",
    "        max_iter=500,\n",
    "        normalize=False,\n",
    "        tol=0.05)\n",
    "    # 训练\n",
    "    ridgeClf.fit(train_data, train_label)\n",
    "    return ridgeClf"
   ]
  },
  {
   "cell_type": "code",
   "execution_count": 36,
   "metadata": {},
   "outputs": [],
   "source": [
    "ridgeClf = ridgeClassify(X_train_sparse, y_train)"
   ]
  },
  {
   "cell_type": "code",
   "execution_count": 37,
   "metadata": {},
   "outputs": [],
   "source": [
    "test_price1 = ridgeClf.predict(X_test)"
   ]
  },
  {
   "cell_type": "code",
   "execution_count": 38,
   "metadata": {},
   "outputs": [],
   "source": [
    "y_pre_true1 = np.expm1(test_price1)"
   ]
  },
  {
   "cell_type": "code",
   "execution_count": 39,
   "metadata": {},
   "outputs": [
    {
     "data": {
      "text/plain": [
       "0.22745256037481412"
      ]
     },
     "execution_count": 39,
     "metadata": {},
     "output_type": "execute_result"
    }
   ],
   "source": [
    "mean_squared_log_error(true_price, y_pre_true1)"
   ]
  },
  {
   "cell_type": "code",
   "execution_count": 40,
   "metadata": {},
   "outputs": [
    {
     "name": "stdout",
     "output_type": "stream",
     "text": [
      "[22.1288834  18.48028588  9.08463482 ... 78.26892935  8.68760464\n",
      " 39.81011137]\n"
     ]
    }
   ],
   "source": [
    "print(y_pre_true1)"
   ]
  },
  {
   "cell_type": "code",
   "execution_count": null,
   "metadata": {},
   "outputs": [],
   "source": []
  }
 ],
 "metadata": {
  "kernelspec": {
   "display_name": "Python 3",
   "language": "python",
   "name": "python3"
  },
  "language_info": {
   "codemirror_mode": {
    "name": "ipython",
    "version": 3
   },
   "file_extension": ".py",
   "mimetype": "text/x-python",
   "name": "python",
   "nbconvert_exporter": "python",
   "pygments_lexer": "ipython3",
   "version": "3.7.3"
  }
 },
 "nbformat": 4,
 "nbformat_minor": 2
}
